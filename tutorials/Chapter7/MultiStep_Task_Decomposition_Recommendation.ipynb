{
  "cells": [
    {
      "cell_type": "markdown",
      "source": [
        "## Multi-Step Task Decomposition with Recommendations\n",
        "This tutorial demonstrates a complete workflow for LLM-powered task decomposition, plan generation, verification, refinement, and evaluation in the context of personalized home gym setup.\n",
        "\n",
        "#### Objective\n",
        "Use an LLM to decompose a user goal into a personalized, multi-step plan with recommendation, verification, refinement, and evaluation."
      ],
      "metadata": {
        "nteract": {
          "transient": {
            "deleting": false
          }
        }
      },
      "id": "528cc475-6b13-423f-a09f-aea311d42371"
    },
    {
      "cell_type": "code",
      "source": [
        "# %pip install -U langchain langchain-openai openai\n",
        "\n",
        "# Install dependencies\n",
        "# %pip install langchain openai --upgrade"
      ],
      "outputs": [],
      "execution_count": 1,
      "metadata": {
        "gather": {
          "logged": 1750653127217
        }
      },
      "id": "33665ef8"
    },
    {
      "cell_type": "markdown",
      "source": [
        "##### Step 1: Prerequisites, user profile and tool function "
      ],
      "metadata": {
        "nteract": {
          "transient": {
            "deleting": false
          }
        }
      },
      "id": "8c23c4fb-ae40-4529-871c-f3ddb6a7e164"
    },
    {
      "cell_type": "code",
      "source": [
        "from langchain_openai import ChatOpenAI\n",
        "from langchain.prompts import ChatPromptTemplate\n",
        "import json\n",
        "import yaml\n",
        "import os\n",
        "# Read the YAML file\n",
        "with open('./../../../Curify/curify_api.yaml', 'r') as yaml_file:\n",
        "    data = yaml.safe_load(yaml_file)\n",
        "\n",
        "# Access the API keys and other configuration data\n",
        "openai_api_key = data.get('openai').get('api_key')\n",
        "os.environ[\"OPENAI_API_KEY\"] = openai_api_key\n",
        "# OpenAI setup\n",
        "# Create ChatOpenAI instance with key\n",
        "llm = ChatOpenAI(\n",
        "    model=\"gpt-4o\",\n",
        "    temperature=0\n",
        ")"
      ],
      "outputs": [],
      "execution_count": 2,
      "metadata": {
        "gather": {
          "logged": 1750653128928
        }
      },
      "id": "4a0ee98d"
    },
    {
      "cell_type": "code",
      "source": [
        "# Step 1: User profile\n",
        "user_profile = {\n",
        "    \"goal\": \"build a home gym\",\n",
        "    \"budget\": 2000,\n",
        "    \"space\": \"10 ft x 12 ft\",\n",
        "    \"fitness_level\": \"intermediate\",\n",
        "    \"preferences\": [\"cardio\", \"compact equipment\"]\n",
        "}"
      ],
      "outputs": [],
      "execution_count": 3,
      "metadata": {
        "lines_to_next_cell": 1,
        "gather": {
          "logged": 1750653129066
        }
      },
      "id": "d617e5b7"
    },
    {
      "cell_type": "code",
      "source": [
        "# Step 2: Tool functions\n",
        "def verify_budget(equipment, budget_limit):\n",
        "    total = sum(item[\"price\"] for item in equipment)\n",
        "    return {\"within_budget\": total <= budget_limit, \"total\": total}\n",
        "\n",
        "def verify_space(equipment):\n",
        "    compact_keywords = [\"foldable\", \"adjustable\", \"resistance band\"]\n",
        "    compact_count = sum(any(kw in item[\"name\"].lower() for kw in compact_keywords) for item in equipment)\n",
        "    return {\"space_ok\": compact_count >= len(equipment) // 2, \"compact_count\": compact_count}"
      ],
      "outputs": [],
      "execution_count": 4,
      "metadata": {
        "lines_to_next_cell": 1,
        "gather": {
          "logged": 1750653129186
        }
      },
      "id": "d3d7c745"
    },
    {
      "cell_type": "markdown",
      "source": [
        "#### Step 2: Planner agent - generate structured JSON plan"
      ],
      "metadata": {
        "nteract": {
          "transient": {
            "deleting": false
          }
        }
      },
      "id": "c4e18cb9-aa19-4bab-b0e5-d65fc93b3109"
    },
    {
      "cell_type": "code",
      "source": [
        "\n",
        "planner_prompt = ChatPromptTemplate.from_messages([\n",
        "    (\"system\", \"You are a planning assistant that returns JSON plans for home gym setup.\"),\n",
        "    (\"human\", \"\"\"Given the user's profile:\n",
        "- Budget: ${budget}\n",
        "- Room Size: {space}\n",
        "- Fitness Level: {fitness_level}\n",
        "- Preferences: {preferences}\n",
        "\n",
        "Generate a JSON plan with:\n",
        "- space_plan: string\n",
        "- equipment: list of {{ \"name\": ..., \"price\": ... }}\n",
        "- setup_notes: string\"\"\")\n",
        "])\n",
        "\n",
        "planner_input = planner_prompt.format_messages(**user_profile)\n",
        "plan_response = llm(planner_input)\n",
        "# Extract the actual JSON content from the code block\n",
        "raw_text = plan_response.content.strip()\n",
        "\n",
        "# Remove markdown-style code fences\n",
        "if raw_text.startswith(\"```json\"):\n",
        "    raw_text = raw_text[len(\"```json\"):].strip()\n",
        "if raw_text.endswith(\"```\"):\n",
        "    raw_text = raw_text[:-3].strip()\n",
        "\n",
        "# Now safely load\n",
        "plan_json = json.loads(raw_text)\n",
        "print(\"🔧 Generated Plan:\\n\", json.dumps(plan_json, indent=2))"
      ],
      "outputs": [
        {
          "output_type": "stream",
          "name": "stdout",
          "text": "🔧 Generated Plan:\n {\n  \"space_plan\": \"Arrange the equipment along the longer wall to maximize space. Leave a 3 ft wide path for movement and stretching. Use vertical storage solutions for smaller items.\",\n  \"equipment\": [\n    {\n      \"name\": \"Folding Treadmill\",\n      \"price\": 600\n    },\n    {\n      \"name\": \"Compact Rowing Machine\",\n      \"price\": 500\n    },\n    {\n      \"name\": \"Adjustable Dumbbells Set\",\n      \"price\": 300\n    },\n    {\n      \"name\": \"Resistance Bands Set\",\n      \"price\": 50\n    },\n    {\n      \"name\": \"Wall-Mounted Pull-Up Bar\",\n      \"price\": 100\n    },\n    {\n      \"name\": \"Yoga Mat\",\n      \"price\": 30\n    },\n    {\n      \"name\": \"Compact Exercise Bike\",\n      \"price\": 400\n    }\n  ],\n  \"setup_notes\": \"Focus on compact and foldable equipment to save space. The folding treadmill and compact rowing machine can be stored upright when not in use. The adjustable dumbbells and resistance bands offer versatile strength training options without taking up much room. Ensure the pull-up bar is securely mounted on a load-bearing wall. The exercise bike can be placed in a corner when not in use. Use the yoga mat for stretching and bodyweight exercises.\"\n}\n"
        }
      ],
      "execution_count": 7,
      "metadata": {
        "gather": {
          "logged": 1750653263229
        }
      },
      "id": "7cbe1ce3"
    },
    {
      "cell_type": "markdown",
      "source": [
        "#### Step 3: Tool execution"
      ],
      "metadata": {
        "nteract": {
          "transient": {
            "deleting": false
          }
        }
      },
      "id": "3a9614e1-3795-46f3-852d-03a528a4e8de"
    },
    {
      "cell_type": "code",
      "source": [
        "\n",
        "budget_result = verify_budget(plan_json[\"equipment\"], user_profile[\"budget\"])\n",
        "space_result = verify_space(plan_json[\"equipment\"])\n",
        "print(\"💰 Budget Check:\", budget_result)\n",
        "print(\"📐 Space Check:\", space_result)"
      ],
      "outputs": [
        {
          "output_type": "stream",
          "name": "stdout",
          "text": "💰 Budget Check: {'within_budget': True, 'total': 1980}\n📐 Space Check: {'space_ok': False, 'compact_count': 2}\n"
        }
      ],
      "execution_count": 8,
      "metadata": {
        "gather": {
          "logged": 1750653267703
        }
      },
      "id": "b50b9762"
    },
    {
      "cell_type": "markdown",
      "source": [
        "#### Step 4: Critic agent - evaluate plan"
      ],
      "metadata": {
        "nteract": {
          "transient": {
            "deleting": false
          }
        }
      },
      "id": "3d3b592c-fbbd-4d9a-a486-a609c98a22f8"
    },
    {
      "cell_type": "code",
      "source": [
        "critic_prompt = ChatPromptTemplate.from_messages([\n",
        "    (\"system\", \"You are an evaluator that gives 1-10 scores for coherence, relevance, and personalization.\"),\n",
        "    (\"human\", \"Evaluate the following plan:\\n\\n{plan_json}\")\n",
        "])\n",
        "\n",
        "critic_input = critic_prompt.format_messages(plan_json=json.dumps(plan_json))\n",
        "critic_response = llm(critic_input)\n",
        "print(\"📊 Critic Evaluation:\\n\", critic_response.content)"
      ],
      "outputs": [
        {
          "output_type": "stream",
          "name": "stdout",
          "text": "📊 Critic Evaluation:\n **Coherence: 9/10**\n\nThe plan is well-structured and provides a clear strategy for arranging and utilizing the space effectively. The focus on compact and foldable equipment is consistent throughout, and the use of vertical storage solutions is a logical approach to maximizing space. The setup notes complement the space plan by providing practical advice on equipment storage and usage.\n\n**Relevance: 9/10**\n\nThe plan is highly relevant for someone looking to set up a home gym in a limited space. The selection of equipment is appropriate for a variety of workouts, including cardio, strength training, and flexibility exercises. The emphasis on compact and foldable equipment aligns well with the goal of maximizing space.\n\n**Personalization: 7/10**\n\nWhile the plan is generally applicable to anyone setting up a small home gym, it lacks specific details that would tailor it to an individual's unique needs or preferences. For example, it does not consider the user's fitness goals, available space dimensions, or any specific equipment preferences they might have. Adding these details could enhance personalization.\n"
        }
      ],
      "execution_count": 9,
      "metadata": {
        "gather": {
          "logged": 1750653275373
        }
      },
      "id": "2d3cdf62"
    },
    {
      "cell_type": "code",
      "source": [],
      "outputs": [],
      "execution_count": null,
      "metadata": {},
      "id": "f3cbef58-20a0-446d-bb0a-f2a0786bb25b"
    }
  ],
  "metadata": {
    "jupytext": {
      "cell_metadata_filter": "-all",
      "main_language": "python",
      "notebook_metadata_filter": "-all"
    },
    "microsoft": {
      "ms_spell_check": {
        "ms_spell_check_language": "en"
      },
      "host": {
        "AzureML": {
          "notebookHasBeenCompleted": true
        }
      }
    },
    "language_info": {
      "name": "python",
      "version": "3.10.11",
      "mimetype": "text/x-python",
      "codemirror_mode": {
        "name": "ipython",
        "version": 3
      },
      "pygments_lexer": "ipython3",
      "nbconvert_exporter": "python",
      "file_extension": ".py"
    },
    "kernelspec": {
      "name": "python310-sdkv2",
      "language": "python",
      "display_name": "Python 3.10 - SDK v2"
    },
    "kernel_info": {
      "name": "python310-sdkv2"
    },
    "nteract": {
      "version": "nteract-front-end@1.0.0"
    }
  },
  "nbformat": 4,
  "nbformat_minor": 5
}