{
  "cells": [
    {
      "cell_type": "markdown",
      "source": [
        "## Conversational Shopping Assistant with Reinforcement Learning\n",
        "\n",
        "#### Objective\n",
        "\n",
        "- Recommends products based on user queries.\n",
        "- Learns from user feedback over multiple conversation rounds.\n",
        "- Dynamically adapts recommendations to enhance personalization.\n",
        "\n",
        "#### Prerequisites\n",
        "- Pre-trained Language Models: For natural language understanding (NLU), e.g., Hugging Face’s DistilBERT.\n",
        "- RL Environment: Using gym to simulate the recommendation process.\n",
        "\n",
        "#### Define User Scenarios and Product data"
      ],
      "metadata": {
        "nteract": {
          "transient": {
            "deleting": false
          }
        }
      }
    },
    {
      "cell_type": "code",
      "source": [
        "# %pip install transformers\n",
        "# %pip install gym\n",
        "# %pip install stable_baselines3\n",
        "# %pip install shimmy>=2.0\n",
        "# %pip install datasets\n",
        "# %pip install tiktoken\n",
        "\n",
        "from openai import OpenAI\n",
        "import yaml\n",
        "\n",
        "# Read the YAML file\n",
        "with open('./../../../Curify/curify_api.yaml', 'r') as yaml_file:\n",
        "    data = yaml.safe_load(yaml_file)\n",
        "\n",
        "# Access the API keys and other configuration data\n",
        "openai_api_key = data.get('openai').get('api_key')\n",
        "client = OpenAI(api_key=openai_api_key)\n",
        "model=\"gpt-4o-mini\""
      ],
      "outputs": [],
      "execution_count": 101,
      "metadata": {
        "gather": {
          "logged": 1743058641743
        }
      }
    },
    {
      "cell_type": "markdown",
      "source": [
        "#### Step 1: Load Amazon Product Metadata\n"
      ],
      "metadata": {
        "nteract": {
          "transient": {
            "deleting": false
          }
        }
      }
    },
    {
      "cell_type": "code",
      "source": [
        "import pandas as pd\n",
        "import json\n",
        "from datasets import load_dataset\n",
        "\n",
        "import pandas as pd\n",
        "import random\n",
        "from openai import OpenAI\n",
        "import json\n",
        "from datasets import load_dataset\n",
        "\n",
        "def get_llm_product_representation(product_title, product_details, user_prefs):\n",
        "    \"\"\"\n",
        "    Use LLM to extract structured product features based on user preferences\n",
        "    \"\"\"\n",
        "    prompt = f\"\"\"Extract these attributes from the product below, focusing on aspects relevant to a user who prefers {user_prefs}:\n",
        "    - product_type: over-ear/in-ear/earbuds\n",
        "    - price: numeric value only\n",
        "    - features: list of 3-5 key characteristics\n",
        "    - brand: manufacturer name\n",
        "    \n",
        "    Product: {product_title}\n",
        "    Details: {product_details}\n",
        "    \n",
        "    Return JSON only, with keys: product_title, product_type, features, brand\"\"\"\n",
        "    \n",
        "    response = client.chat.completions.create(\n",
        "        model=\"gpt-4o-mini\",\n",
        "        messages=[{\"role\": \"user\", \"content\": prompt}],\n",
        "        response_format={\"type\": \"json_object\"}\n",
        "    )\n",
        "    \n",
        "    try:\n",
        "        return json.loads(response.choices[0].message.content)\n",
        "    except:\n",
        "        return None\n",
        "\n",
        "def process_products(sampled_df, user_prefs, sample_size=20):\n",
        "    \"\"\"\n",
        "    Process headphone products and generate structured representations\n",
        "    \"\"\"\n",
        "    # Random sample\n",
        "    \n",
        "    results = []\n",
        "    for _, row in sampled_df.iterrows():\n",
        "        # Get LLM representation\n",
        "        product_info = get_llm_product_representation(\n",
        "            product_title=row['title'],\n",
        "            product_details=str(row['details']),\n",
        "            user_prefs=user_prefs\n",
        "        )\n",
        "        \n",
        "        if product_info:\n",
        "            product_info['price'] = row['price']\n",
        "            results.append(product_info)\n",
        "    \n",
        "    return results\n",
        "\n",
        "\n",
        "def process_data_sample(dataset_str, meta_key, user_prefs, sampling_percent=1.0, sample_size=20):\n",
        "    \"\"\"\n",
        "    Load and process Amazon reviews and metadata, sample a percentage of reviews, and return interactions and product metadata.\n",
        "\n",
        "    Args:\n",
        "        dataset_str (str): Hugging Face dataset path (e.g., \"McAuley-Lab/Amazon-Reviews-2023\")\n",
        "        review_key (str): Subset key for reviews (e.g., \"raw_review_Books\")\n",
        "        meta_key (str): Subset key for metadata (e.g., \"raw_meta_Books\")\n",
        "        sampling_percent (float): Percentage of data to load (e.g., 1.0 for 1%)\n",
        "\n",
        "    Returns:\n",
        "        interaction_df (pd.DataFrame): Processed review interactions with user/item/rating info\n",
        "        product_df (pd.DataFrame): Product metadata including item_id, title, category\n",
        "    \"\"\"\n",
        "\n",
        "    # Load full metadata\n",
        "    metadata = load_dataset(dataset_str, meta_key, split=\"full\", trust_remote_code=True)\n",
        "    metadata_df = pd.DataFrame(metadata)\n",
        "    metadata_df = metadata_df[['parent_asin', 'title', 'main_category', 'categories', 'details', 'price']]\n",
        "    # Process metadata and keep relevant fields\n",
        "    \n",
        "    metadata_df.rename(columns={\n",
        "        'parent_asin': 'item_id'\n",
        "    }, inplace=True)\n",
        "\n",
        "    headphone_df = metadata_df[metadata_df['categories'].astype(str).str.contains('Headphone', case=False, na=False)]\n",
        "\n",
        "    headphone_df['price'] = pd.to_numeric(headphone_df['price'], errors='coerce').fillna(1000)\n",
        "    headphone_df = headphone_df[headphone_df['price'] < 1000]\n",
        "\n",
        "    sampled_df = headphone_df.sample(min(sample_size, len(headphone_df)))\n",
        "\n",
        "    # Generate product representations\n",
        "    product_reps = process_products(sampled_df, user_prefs)\n",
        "\n",
        "    # Save results\n",
        "    print(f\"Generated {len(product_reps)} product representations\")\n",
        "\n",
        "    return product_reps\n"
      ],
      "outputs": [],
      "execution_count": 102,
      "metadata": {
        "gather": {
          "logged": 1743058642078
        }
      }
    },
    {
      "cell_type": "markdown",
      "source": [
        "#### Step 2: Process User Conversation into Interaction History\n"
      ],
      "metadata": {
        "nteract": {
          "transient": {
            "deleting": false
          }
        }
      }
    },
    {
      "cell_type": "code",
      "source": [
        "from transformers import pipeline\n",
        "\n",
        "def analyze_history(history):\n",
        "    history_str = json.dumps(history)\n",
        "    response = client.chat.completions.create(\n",
        "        model=\"gpt-4-turbo\",\n",
        "        response_format={\"type\": \"json_object\"},\n",
        "        messages=[\n",
        "            {\"role\": \"system\", \"content\": \"\"\"Analyze conversation history and respond with a JSON object:\n",
        "            - preferred_brand: string\n",
        "            - avoided_features: list\n",
        "            - budget_range: [min,max]\n",
        "            - implicit_type_pref: string\"\"\"},\n",
        "            {\"role\": \"user\", \"content\": history_str}\n",
        "        ]\n",
        "    )\n",
        "    return json.loads(response.choices[0].message.content.strip())\n"
      ],
      "outputs": [],
      "execution_count": 103,
      "metadata": {
        "gather": {
          "logged": 1743058642230
        }
      }
    },
    {
      "cell_type": "markdown",
      "source": [
        "#### Step 3: Build the Conversational Layer\n",
        "\n",
        "**Intent Classification**\n",
        "\n",
        "Use a zero-shot classifier (e.g., Hugging Face's BART) to identify user intent."
      ],
      "metadata": {
        "nteract": {
          "transient": {
            "deleting": false
          }
        }
      }
    },
    {
      "cell_type": "code",
      "source": [
        "from openai import OpenAI\n",
        "import json\n",
        "\n",
        "def process_current_query(query):\n",
        "    response = client.chat.completions.create(\n",
        "        model=model,\n",
        "        response_format={\"type\": \"json_object\"},\n",
        "        messages=[\n",
        "            {\"role\": \"system\", \"content\": \"\"\"Extract EXACT preferences from this query as JSON with:\n",
        "            - type: over-ear/in-ear/earbuds\n",
        "            - price_max: number\n",
        "            - features: list\n",
        "            - use_case: string\n",
        "            - urgency: high/medium/low\"\"\"},\n",
        "            {\"role\": \"user\", \"content\": query}\n",
        "        ]\n",
        "    )\n",
        "    return json.loads(response.choices[0].message.content.strip())\n"
      ],
      "outputs": [],
      "execution_count": 104,
      "metadata": {
        "jupyter": {
          "source_hidden": false,
          "outputs_hidden": false
        },
        "nteract": {
          "transient": {
            "deleting": false
          }
        },
        "gather": {
          "logged": 1743058642368
        }
      }
    },
    {
      "cell_type": "markdown",
      "source": [
        "#### Step 4: Merge History-based with Query-based Preference"
      ],
      "metadata": {
        "nteract": {
          "transient": {
            "deleting": false
          }
        }
      }
    },
    {
      "cell_type": "code",
      "source": [
        "def merge_preferences(current, historical):\n",
        "    return {\n",
        "        # Current query takes priority\n",
        "        \"product_type\": current.get(\"type\") or historical[\"implicit_type_pref\"],\n",
        "        \"price_max\": current.get(\"price_max\") or historical[\"budget_range\"][1],\n",
        "        # Combine features\n",
        "        \"features\": list(set(current[\"features\"] + [\"long-battery\"]))\n",
        "                    if historical[\"preferred_brand\"] == \"Sony\" \n",
        "                    else current[\"features\"],\n",
        "        # Use historical brand unless contradicted\n",
        "        \"brand\": historical[\"preferred_brand\"],\n",
        "        }\n"
      ],
      "outputs": [],
      "execution_count": 105,
      "metadata": {
        "gather": {
          "logged": 1743058642501
        }
      }
    },
    {
      "cell_type": "markdown",
      "source": [
        "#### Step 5: Reward Function and RL Framework\n",
        "\n",
        "** RL Environment Setup**\n",
        "\n",
        "Define the RL environment using gym. This environment simulates the recommendation process, where:\n",
        "\n",
        "- State Space: User preferences, conversation history, previous recommendations.\n",
        "- Action Space: Products available for recommendation.\n",
        "- Reward Signal: User feedback (e.g., clicks, purchases).\n",
        "\n",
        "**Reward Function**\n",
        "- Positive Reward: User clicks or purchases a recommended product.\n",
        "- Negative Reward: User ignores or dislikes a recommendation.\n",
        "- Neutral Reward: User views but takes no action."
      ],
      "metadata": {
        "nteract": {
          "transient": {
            "deleting": false
          }
        }
      }
    },
    {
      "cell_type": "code",
      "source": [
        "import gym\n",
        "from gym import spaces\n",
        "import numpy as np\n",
        "import matplotlib.pyplot as plt\n",
        "from stable_baselines3 import PPO\n",
        "\n",
        "import gym\n",
        "from gym import spaces\n",
        "import numpy as np\n",
        "\n",
        "class RecommendationEnv(gym.Env):\n",
        "    def __init__(self, products, user_preferences, reward_type='feature_count'):\n",
        "        super().__init__()\n",
        "        self.products = products\n",
        "        self.user_preferences = user_preferences\n",
        "        self.reward_type = reward_type\n",
        "        self.action_space = spaces.Discrete(len(self.products))\n",
        "        self.observation_space = spaces.Box(low=0, high=1, shape=(len(self.products),), dtype=float)\n",
        "        self.reset()\n",
        "\n",
        "    def reset(self):\n",
        "        self.state = np.zeros(len(self.products), dtype=np.float32)  # <-- proper shape and dtype\n",
        "        self.current_step = 0\n",
        "        return self.state\n",
        "\n",
        "    def step(self, action):\n",
        "        product = self.products[action]\n",
        "        reward = self._calculate_reward(product)\n",
        "        self.state[action] += 1\n",
        "        self.current_step += 1\n",
        "        done = self.current_step >= 5\n",
        "        return self.state, reward, done, {}\n",
        "\n",
        "    def _calculate_reward(self, product):\n",
        "        \"\"\"Main reward router\"\"\"\n",
        "        base_score = self._calculate_base_score(product)\n",
        "        \n",
        "        if self.reward_type == 'feature_count':\n",
        "            return base_score\n",
        "        else:\n",
        "            return base_score + self._apply_piecewise_rules(product)\n",
        "\n",
        "    def safe_price(self, p):\n",
        "        try:\n",
        "            return float(p)\n",
        "        except (TypeError, ValueError):\n",
        "            return 1000\n",
        "\n",
        "    def _calculate_base_score(self, product):\n",
        "        \"\"\"Shared scoring logic for both reward types\"\"\"\n",
        "        # Feature matching\n",
        "        user_features = set(self.user_preferences.get('features', []))\n",
        "        product_features = set(product.get('features', []))\n",
        "        feature_score = len(user_features & product_features) / max(1, len(user_features))\n",
        "        \n",
        "        # Type and brand matching\n",
        "        type_match = product['product_type'] == self.user_preferences.get('product_type', '')\n",
        "        brand_match = product['brand'].lower() == self.user_preferences.get('brand', '').lower()\n",
        "        \n",
        "        price_budget = self.user_preferences.get('price_max', float('inf'))\n",
        "\n",
        "        if self.safe_price(product.get('price', 1000)) > price_budget:\n",
        "            return 0.0\n",
        "\n",
        "        return min(1.0, 0.5 * type_match + 0.3 * type_match+ 0.2 * brand_match)\n",
        "\n",
        "    def _apply_piecewise_rules(self, product):\n",
        "        \"\"\"Gradual price scaling version\"\"\"\n",
        "        price_budget = self.user_preferences.get('price_max', float('inf'))\n",
        "        price = product.get('price', 1000)\n",
        "\n",
        "        price_ratio = min(1.0, price / price_budget) if price_budget  > 0 else 0\n",
        "        \n",
        "        # Apply price scaling\n",
        "        if price <= price_budget:\n",
        "            price_modifier = 0.5 * (1 + price_ratio)  # 0.5-1.0 scaling\n",
        "        else:\n",
        "            overshoot = (price - price_budget) / max(1, price_budget)\n",
        "            price_modifier = max(0, 0.5 - 0.2 * overshoot)  # Penalize overspending\n",
        "            \n",
        "        return price_modifier"
      ],
      "outputs": [],
      "execution_count": 106,
      "metadata": {
        "gather": {
          "logged": 1743058642792
        }
      }
    },
    {
      "cell_type": "markdown",
      "source": [
        "#### Step 6: Train RL model and recommend products with trained RL."
      ],
      "metadata": {
        "nteract": {
          "transient": {
            "deleting": false
          }
        }
      }
    },
    {
      "cell_type": "code",
      "source": [
        "def train_and_evaluate(products, user_prefs, reward_type='feature_count', \n",
        "                      num_episodes=50, episode_steps=200, test_steps=5):\n",
        "    \"\"\"\n",
        "    Train and evaluate PPO model with specified reward function\n",
        "    \n",
        "    Args:\n",
        "        products: List of product dictionaries\n",
        "        user_prefs: User preference dictionary\n",
        "        reward_type: 'feature_count' or 'piecewise_linear'\n",
        "        num_episodes: Number of training episodes\n",
        "        episode_steps: Steps per episode\n",
        "        test_steps: Number of test steps to run\n",
        "        \n",
        "    Returns:\n",
        "        Tuple: (rewards_over_time, test_results)\n",
        "    \"\"\"\n",
        "    # Initialize environment with specified reward function\n",
        "    env = RecommendationEnv(products, user_prefs, reward_type)\n",
        "    model = PPO(\"MlpPolicy\", env, verbose=0)\n",
        "    \n",
        "    # -----------------------------\n",
        "    # Training Phase\n",
        "    # -----------------------------\n",
        "    rewards_over_time = []\n",
        "    \n",
        "    for episode in range(num_episodes):\n",
        "        state = env.reset()\n",
        "        total_reward = 0\n",
        "        \n",
        "        for _ in range(episode_steps):\n",
        "            action, _ = model.predict(state)\n",
        "            state, reward, done, _ = env.step(action)\n",
        "            total_reward += reward\n",
        "            if done:\n",
        "                break\n",
        "                \n",
        "        rewards_over_time.append(total_reward)\n",
        "        model.learn(total_timesteps=episode_steps, reset_num_timesteps=False)\n",
        "    \n",
        "    # -----------------------------\n",
        "    # Plotting\n",
        "    # -----------------------------\n",
        "    plt.figure(figsize=(8, 6))\n",
        "    plt.plot(rewards_over_time, marker='o')\n",
        "    plt.title(f\"Reward Over Training ({reward_type} rewards)\")\n",
        "    plt.xlabel(\"Episode\")\n",
        "    plt.ylabel(\"Total Reward\")\n",
        "    plt.grid(True)\n",
        "    plt.tight_layout()\n",
        "    \n",
        "    plot_path = f\"reward_plot_{reward_type}.png\"\n",
        "    plt.savefig(plot_path)\n",
        "    plt.close()\n",
        "    print(f\"✅ Reward plot saved to: {plot_path}\")\n",
        "    \n",
        "    # -----------------------------\n",
        "    # Testing\n",
        "    # -----------------------------\n",
        "    test_results = []\n",
        "    state = env.reset()\n",
        "    \n",
        "    test_output_path = f\"test_output_{reward_type}.txt\"\n",
        "    with open(test_output_path, \"w\") as f:\n",
        "        f.write(f\"🧪 Test Results ({reward_type} rewards):\\n\")\n",
        "        \n",
        "        for i in range(test_steps):\n",
        "            action, _ = model.predict(state)\n",
        "            state, reward, done, _ = env.step(action)\n",
        "            product = products[action]\n",
        "            \n",
        "            output_line = (f\"Step {i+1}: Recommended: {product['product_title']} | \"\n",
        "                          f\"Type: {product['product_type']} | \"\n",
        "                          f\"Price: ${product['price']} | \"\n",
        "                          f\"Reward: {reward:.2f}\\n\")\n",
        "            \n",
        "            f.write(output_line)\n",
        "            test_results.append(output_line.strip())\n",
        "    \n",
        "    print(f\"✅ Test output saved to: {test_output_path}\")\n",
        "    return rewards_over_time, test_results"
      ],
      "outputs": [],
      "execution_count": 112,
      "metadata": {
        "gather": {
          "logged": 1743062228797
        }
      }
    },
    {
      "cell_type": "code",
      "source": [
        "\n",
        "# Step 2: Process Conversation into Interaction History\n",
        "interaction_history = [\n",
        "    {\n",
        "        \"user\": \"Which Sony headphones have the best battery life?\",\n",
        "        \"bot\": \"Sony WH-1000XM5 (30hrs). Would you like details?\",\n",
        "        \"clicked_product\": \"Sony WH-1000XM5\",\n",
        "        \"purchased\": False\n",
        "    },\n",
        "    {\n",
        "        \"user\": \"Show me over-ear headphones under $100\",\n",
        "        \"bot\": \"Recommended: Bose QuietComfort 45 ($79)\",\n",
        "        \"clicked_product\": \"Bose QuietComfort 45\",\n",
        "        \"purchased\": True\n",
        "    },\n",
        "    {\n",
        "        \"user\": \"I hate how these earbuds hurt my ears\",\n",
        "        \"bot\": \"Shall I suggest over-ear options?\",\n",
        "        \"clicked_product\": None,\n",
        "        \"purchased\": False\n",
        "    }\n",
        "]\n",
        "\n",
        "# Usage\n",
        "historical_prefs = analyze_history(interaction_history)\n",
        "\n",
        "# Output user preferences\n",
        "print(f\"User Preferences from interaction history: {historical_prefs}\")\n",
        "\n",
        "# Step 3: Conversational Layer\n",
        "user_input = \"I need comfortable headphones for travel with good noise cancellation. My budget is around $100.\"\n",
        "\n",
        "current_prefs = process_current_query(user_input)\n",
        "final_prefs = merge_preferences(current_prefs, historical_prefs)\n",
        "final_prefs\n",
        "\n",
        "from datasets import load_dataset\n",
        "from stable_baselines3 import PPO\n",
        "\n",
        "# 1. Load data\n",
        "products = process_data_sample(dataset_str=\"McAuley-Lab/Amazon-Reviews-2023\", meta_key=\"raw_meta_Electronics\", \n",
        "user_prefs=final_prefs, sampling_percent=1, sample_size=20)\n"
      ],
      "outputs": [
        {
          "output_type": "stream",
          "name": "stdout",
          "text": "User Preferences from interaction history: {'preferred_brand': 'Sony', 'avoided_features': ['earbuds'], 'budget_range': [0, 100], 'implicit_type_pref': 'over-ear'}\nGenerated 20 product representations\n"
        },
        {
          "output_type": "stream",
          "name": "stderr",
          "text": "/tmp/ipykernel_5257/2198608520.py:86: SettingWithCopyWarning: \nA value is trying to be set on a copy of a slice from a DataFrame.\nTry using .loc[row_indexer,col_indexer] = value instead\n\nSee the caveats in the documentation: https://pandas.pydata.org/pandas-docs/stable/user_guide/indexing.html#returning-a-view-versus-a-copy\n  headphone_df['price'] = pd.to_numeric(headphone_df['price'], errors='coerce').fillna(1000)\n"
        }
      ],
      "execution_count": 108,
      "metadata": {
        "gather": {
          "logged": 1743059438901
        }
      }
    },
    {
      "cell_type": "code",
      "source": [
        "historical_prefs"
      ],
      "outputs": [
        {
          "output_type": "execute_result",
          "execution_count": 116,
          "data": {
            "text/plain": "{'preferred_brand': 'Sony',\n 'avoided_features': ['earbuds'],\n 'budget_range': [0, 100],\n 'implicit_type_pref': 'over-ear'}"
          },
          "metadata": {}
        }
      ],
      "execution_count": 116,
      "metadata": {
        "gather": {
          "logged": 1743066593861
        }
      }
    },
    {
      "cell_type": "code",
      "source": [
        "products"
      ],
      "outputs": [
        {
          "output_type": "execute_result",
          "execution_count": 111,
          "data": {
            "text/plain": "[{'product_title': 'FIGMASU Headphones Wireless Bluetooth Neckband Wireless Headsets for Sport',\n  'product_type': 'on-ear',\n  'features': ['built-in microphone', '100 H playtime', 'sweatproof'],\n  'brand': 'FIGMASU',\n  'price': 29.98},\n {'product_title': 'Earpads Compatible with LS31 LS41 LS35X LS50X Headset with Microphone Foam I Replacement Ear Cushion (Cooling Gel Fabric)',\n  'product_type': 'over-ear',\n  'features': ['comfortable', 'replacement ear cushion', 'Cooling Gel Fabric'],\n  'brand': 'TRANSTEK',\n  'price': 29.99},\n {'product_title': '6 Pairs Galaxy Buds 2 Pro/Galaxy Buds 2 Memory Foam Ear Tips Buds',\n  'product_type': 'in-ear',\n  'features': ['reduce noise',\n   'comfortable fit',\n   'compatible with Galaxy Buds 2 / Galaxy Buds 2 Pro'],\n  'brand': 'IiEXCEL',\n  'price': 9.99},\n {'product_title': 'OneOdio A11 Wireless Headphones Over Ear',\n  'product_type': 'over-ear',\n  'features': ['comfortable', 'long-battery', 'good noise cancellation'],\n  'brand': 'OneOdio',\n  'price': 19.99},\n {'product_title': 'nannio A1 Wireless ANC Earphones',\n  'product_type': 'in-ear',\n  'features': ['Active Noise Cancelling',\n   'Bluetooth 5.1',\n   'HiFi Stereo Deep Bass'],\n  'brand': 'nannio',\n  'price': 23.99},\n {'product_title': 'Suublg Cartoon Case with Keychain for Airpods Pro',\n  'product_type': 'N/A',\n  'features': [],\n  'brand': 'Suublg',\n  'price': 9.99},\n {'product_title': 'Sleep Headphones, Wireless Music Eye Mask',\n  'product_type': 'over-ear',\n  'features': ['comfortable', 'good noise cancellation'],\n  'brand': 'Ezona',\n  'price': 22.99},\n {'product_title': 'Leopard Airpods Pro Case Compatiable with Airpods Pro - Airpods pro Cover with Pearl Key Chain, Full Protective Durable Shockproof Personalize Wireless Headphone Case',\n  'product_type': 'case',\n  'features': ['Heavy Duty Protection', 'Anti-Slip'],\n  'brand': 'GIUMOWL',\n  'price': 11.99},\n {'product_title': 'Lymoc Newest Clip On Bluetooth Earbuds',\n  'product_type': 'in-ear',\n  'features': [],\n  'brand': 'Lymoc',\n  'price': 29.99},\n {'product_title': 'Airpods Pro Skin + Case Skin Apple Airpods Pro Skin Airpods StickerStylish Covers for Protection & Customization Compatible with AirPodsPro 001952 Paint Paints Red',\n  'product_type': 'Case',\n  'features': ['Anti-Slip', 'Stylish Covers', 'Protection', 'Customization'],\n  'brand': 'igsticker',\n  'price': 8.99},\n {'product_title': 'Manhattan Stereo Headset',\n  'product_type': 'over-ear',\n  'features': ['Lightweight',\n   'Volume-control',\n   'Built-in Adjustable Microphone'],\n  'brand': 'Manhattan',\n  'price': 9.99},\n {'product_title': 'VEVER Replacement Ear Pads Earpads for Mpow 059 Bluetooth Headphones Over Ear',\n  'product_type': 'over-ear',\n  'features': ['comfortable',\n   'compatible with headphones',\n   'leather material'],\n  'brand': 'VEVER',\n  'price': 12.0},\n {'product_title': 'C-ZOFEK Headphones Kaminari Denki Square-Shaped Earphones MHA Anime Cosplay Props for Halloween Party (White)',\n  'product_type': 'in-ear',\n  'features': ['water-resistant', 'retractable cable', 'media control'],\n  'brand': 'C-ZOFEK',\n  'price': 15.88},\n {'product_title': 'Alquar Case Cover for 2021 Beats Studio Buds',\n  'product_type': 'in-ear',\n  'features': ['Heavy Duty Protection', 'Anti-Slip', 'Accessory Kit'],\n  'brand': 'Alquar',\n  'price': 9.27},\n {'product_title': 'KORABA Wireless, LED Light up Color Changing Girls Bluetooth Headsets with MIC',\n  'product_type': 'on-ear',\n  'features': ['wireless', '10 hours battery', 'color changing LED'],\n  'brand': 'KORABA',\n  'price': 19.99},\n {'product_title': 'EPOS | SENNHEISER Adapt 563',\n  'product_type': 'over-ear',\n  'features': ['Dual-Connectivity',\n   'Wireless',\n   'Active Noise Canceling',\n   'Discreet Foldable Boom Mic'],\n  'brand': 'EPOS',\n  'price': 159.9},\n {'product_title': 'Sennheiser DeskMate Corded headset for Your Smart Phone (iPhone/Samsung)',\n  'product_type': 'over-ear',\n  'features': ['Microphone', 'Lightweight', 'Noise-Canceling'],\n  'brand': 'Sennheiser',\n  'price': 227.95},\n {'product_title': 'Audio-Technica ATH-M50xSTS-USB StreamSet Streaming Headset',\n  'product_type': 'over-ear',\n  'features': [],\n  'brand': 'Audio-Technica',\n  'price': 169.0},\n {'product_title': 'CERRXIAN Right Angle 1/4 Male to 1/8 Female Adapter',\n  'product_type': 'n/a',\n  'features': [],\n  'brand': 'CERRXIAN',\n  'price': 7.99},\n {'product_title': 'LC-dolida Bluetooth Headband Headphones',\n  'product_type': 'over-ear',\n  'features': ['cozy sleep mask', 'Bluetooth headphones', 'foldable'],\n  'brand': 'LC-dolida',\n  'price': 19.59}]"
          },
          "metadata": {}
        }
      ],
      "execution_count": 111,
      "metadata": {
        "gather": {
          "logged": 1743062190946
        }
      }
    },
    {
      "cell_type": "code",
      "source": [
        "\n",
        "# Run with feature_count rewards\n",
        "fc_rewards, fc_results = train_and_evaluate(\n",
        "    products, final_prefs, reward_type='feature_count'\n",
        ")\n",
        "\n",
        "# Run with piecewise_linear rewards\n",
        "pw_rewards, pw_results = train_and_evaluate(\n",
        "    products, final_prefs, reward_type='piecewise_linear'\n",
        ")"
      ],
      "outputs": [
        {
          "output_type": "stream",
          "name": "stdout",
          "text": "✅ Reward plot saved to: reward_plot_feature_count.png\n✅ Test output saved to: test_output_feature_count.txt\n✅ Reward plot saved to: reward_plot_piecewise_linear.png\n✅ Test output saved to: test_output_piecewise_linear.txt\n"
        }
      ],
      "execution_count": 113,
      "metadata": {
        "gather": {
          "logged": 1743062805024
        }
      }
    },
    {
      "cell_type": "code",
      "source": [
        "# metadata = load_dataset(\"McAuley-Lab/Amazon-Reviews-2023\", \"raw_meta_Electronics\", split=\"full\", trust_remote_code=True)\n",
        "# metadata_df = pd.DataFrame(metadata)\n",
        "# metadata_df = metadata_df[['parent_asin', 'title', 'main_category', 'categories', 'details', 'price']]\n",
        "# # Process metadata and keep relevant fields\n",
        "\n",
        "# metadata_df.rename(columns={\n",
        "#     'parent_asin': 'item_id'\n",
        "# }, inplace=True)\n",
        "\n",
        "# headphone_df = metadata_df[metadata_df['categories'].astype(str).str.contains('Headphone', case=False, na=False)]\n"
      ],
      "outputs": [
        {
          "output_type": "execute_result",
          "execution_count": 76,
          "data": {
            "text/plain": "       item_id                                              title  \\\n8   B01MCZP7RF  MOSISO Plastic Hard Shell Case & Keyboard Cove...   \n34  B06XJHRP5G  MXditect EB166 Headphones with Mic Stereo Earp...   \n41  B07Z9PZRCY  HOSONGIN 1/4 Inch Female to 3.5mm TRS Male Ada...   \n51  B07C4YHF4L  AvimaBasics Ear Buds, Spare Kit Earloops Buds ...   \n53  B07MVKYVVL  10-Pack Replacement Clamp Bluetooth Ear Hook L...   \n\n           main_category                                         categories  \\\n8              Computers  [Electronics, Headphones, Earbuds & Accessorie...   \n34       All Electronics  [Electronics, Headphones, Earbuds & Accessorie...   \n41       All Electronics  [Electronics, Headphones, Earbuds & Accessorie...   \n51       All Electronics  [Electronics, Headphones, Earbuds & Accessorie...   \n53  Home Audio & Theater  [Electronics, Headphones, Earbuds & Accessorie...   \n\n                                              details price  \n8   {\"Brand\": \"MOSISO\", \"Item Weight\": \"8 ounces\",...  None  \n34  {\"Product Dimensions\": \"3.35 x 3.35 x 0.98 inc...  None  \n41  {\"Package Dimensions\": \"4.41 x 3.39 x 0.35 inc...  None  \n51  {\"Package Dimensions\": \"5.24 x 3.23 x 0.67 inc...  9.99  \n53  {\"Package Dimensions\": \"5.75 x 3.86 x 0.31 inc...  3.49  ",
            "text/html": "<div>\n<style scoped>\n    .dataframe tbody tr th:only-of-type {\n        vertical-align: middle;\n    }\n\n    .dataframe tbody tr th {\n        vertical-align: top;\n    }\n\n    .dataframe thead th {\n        text-align: right;\n    }\n</style>\n<table border=\"1\" class=\"dataframe\">\n  <thead>\n    <tr style=\"text-align: right;\">\n      <th></th>\n      <th>item_id</th>\n      <th>title</th>\n      <th>main_category</th>\n      <th>categories</th>\n      <th>details</th>\n      <th>price</th>\n    </tr>\n  </thead>\n  <tbody>\n    <tr>\n      <th>8</th>\n      <td>B01MCZP7RF</td>\n      <td>MOSISO Plastic Hard Shell Case &amp; Keyboard Cove...</td>\n      <td>Computers</td>\n      <td>[Electronics, Headphones, Earbuds &amp; Accessorie...</td>\n      <td>{\"Brand\": \"MOSISO\", \"Item Weight\": \"8 ounces\",...</td>\n      <td>None</td>\n    </tr>\n    <tr>\n      <th>34</th>\n      <td>B06XJHRP5G</td>\n      <td>MXditect EB166 Headphones with Mic Stereo Earp...</td>\n      <td>All Electronics</td>\n      <td>[Electronics, Headphones, Earbuds &amp; Accessorie...</td>\n      <td>{\"Product Dimensions\": \"3.35 x 3.35 x 0.98 inc...</td>\n      <td>None</td>\n    </tr>\n    <tr>\n      <th>41</th>\n      <td>B07Z9PZRCY</td>\n      <td>HOSONGIN 1/4 Inch Female to 3.5mm TRS Male Ada...</td>\n      <td>All Electronics</td>\n      <td>[Electronics, Headphones, Earbuds &amp; Accessorie...</td>\n      <td>{\"Package Dimensions\": \"4.41 x 3.39 x 0.35 inc...</td>\n      <td>None</td>\n    </tr>\n    <tr>\n      <th>51</th>\n      <td>B07C4YHF4L</td>\n      <td>AvimaBasics Ear Buds, Spare Kit Earloops Buds ...</td>\n      <td>All Electronics</td>\n      <td>[Electronics, Headphones, Earbuds &amp; Accessorie...</td>\n      <td>{\"Package Dimensions\": \"5.24 x 3.23 x 0.67 inc...</td>\n      <td>9.99</td>\n    </tr>\n    <tr>\n      <th>53</th>\n      <td>B07MVKYVVL</td>\n      <td>10-Pack Replacement Clamp Bluetooth Ear Hook L...</td>\n      <td>Home Audio &amp; Theater</td>\n      <td>[Electronics, Headphones, Earbuds &amp; Accessorie...</td>\n      <td>{\"Package Dimensions\": \"5.75 x 3.86 x 0.31 inc...</td>\n      <td>3.49</td>\n    </tr>\n  </tbody>\n</table>\n</div>"
          },
          "metadata": {}
        }
      ],
      "execution_count": 76,
      "metadata": {
        "gather": {
          "logged": 1743038770074
        }
      }
    },
    {
      "cell_type": "code",
      "source": [
        "products"
      ],
      "outputs": [
        {
          "output_type": "execute_result",
          "execution_count": 109,
          "data": {
            "text/plain": "[{'product_title': 'FIGMASU Headphones Wireless Bluetooth Neckband Wireless Headsets for Sport',\n  'product_type': 'on-ear',\n  'features': ['built-in microphone', '100 H playtime', 'sweatproof'],\n  'brand': 'FIGMASU',\n  'price': 29.98},\n {'product_title': 'Earpads Compatible with LS31 LS41 LS35X LS50X Headset with Microphone Foam I Replacement Ear Cushion (Cooling Gel Fabric)',\n  'product_type': 'over-ear',\n  'features': ['comfortable', 'replacement ear cushion', 'Cooling Gel Fabric'],\n  'brand': 'TRANSTEK',\n  'price': 29.99},\n {'product_title': '6 Pairs Galaxy Buds 2 Pro/Galaxy Buds 2 Memory Foam Ear Tips Buds',\n  'product_type': 'in-ear',\n  'features': ['reduce noise',\n   'comfortable fit',\n   'compatible with Galaxy Buds 2 / Galaxy Buds 2 Pro'],\n  'brand': 'IiEXCEL',\n  'price': 9.99},\n {'product_title': 'OneOdio A11 Wireless Headphones Over Ear',\n  'product_type': 'over-ear',\n  'features': ['comfortable', 'long-battery', 'good noise cancellation'],\n  'brand': 'OneOdio',\n  'price': 19.99},\n {'product_title': 'nannio A1 Wireless ANC Earphones',\n  'product_type': 'in-ear',\n  'features': ['Active Noise Cancelling',\n   'Bluetooth 5.1',\n   'HiFi Stereo Deep Bass'],\n  'brand': 'nannio',\n  'price': 23.99},\n {'product_title': 'Suublg Cartoon Case with Keychain for Airpods Pro',\n  'product_type': 'N/A',\n  'features': [],\n  'brand': 'Suublg',\n  'price': 9.99},\n {'product_title': 'Sleep Headphones, Wireless Music Eye Mask',\n  'product_type': 'over-ear',\n  'features': ['comfortable', 'good noise cancellation'],\n  'brand': 'Ezona',\n  'price': 22.99},\n {'product_title': 'Leopard Airpods Pro Case Compatiable with Airpods Pro - Airpods pro Cover with Pearl Key Chain, Full Protective Durable Shockproof Personalize Wireless Headphone Case',\n  'product_type': 'case',\n  'features': ['Heavy Duty Protection', 'Anti-Slip'],\n  'brand': 'GIUMOWL',\n  'price': 11.99},\n {'product_title': 'Lymoc Newest Clip On Bluetooth Earbuds',\n  'product_type': 'in-ear',\n  'features': [],\n  'brand': 'Lymoc',\n  'price': 29.99},\n {'product_title': 'Airpods Pro Skin + Case Skin Apple Airpods Pro Skin Airpods StickerStylish Covers for Protection & Customization Compatible with AirPodsPro 001952 Paint Paints Red',\n  'product_type': 'Case',\n  'features': ['Anti-Slip', 'Stylish Covers', 'Protection', 'Customization'],\n  'brand': 'igsticker',\n  'price': 8.99},\n {'product_title': 'Manhattan Stereo Headset',\n  'product_type': 'over-ear',\n  'features': ['Lightweight',\n   'Volume-control',\n   'Built-in Adjustable Microphone'],\n  'brand': 'Manhattan',\n  'price': 9.99},\n {'product_title': 'VEVER Replacement Ear Pads Earpads for Mpow 059 Bluetooth Headphones Over Ear',\n  'product_type': 'over-ear',\n  'features': ['comfortable',\n   'compatible with headphones',\n   'leather material'],\n  'brand': 'VEVER',\n  'price': 12.0},\n {'product_title': 'C-ZOFEK Headphones Kaminari Denki Square-Shaped Earphones MHA Anime Cosplay Props for Halloween Party (White)',\n  'product_type': 'in-ear',\n  'features': ['water-resistant', 'retractable cable', 'media control'],\n  'brand': 'C-ZOFEK',\n  'price': 15.88},\n {'product_title': 'Alquar Case Cover for 2021 Beats Studio Buds',\n  'product_type': 'in-ear',\n  'features': ['Heavy Duty Protection', 'Anti-Slip', 'Accessory Kit'],\n  'brand': 'Alquar',\n  'price': 9.27},\n {'product_title': 'KORABA Wireless, LED Light up Color Changing Girls Bluetooth Headsets with MIC',\n  'product_type': 'on-ear',\n  'features': ['wireless', '10 hours battery', 'color changing LED'],\n  'brand': 'KORABA',\n  'price': 19.99},\n {'product_title': 'EPOS | SENNHEISER Adapt 563',\n  'product_type': 'over-ear',\n  'features': ['Dual-Connectivity',\n   'Wireless',\n   'Active Noise Canceling',\n   'Discreet Foldable Boom Mic'],\n  'brand': 'EPOS',\n  'price': 159.9},\n {'product_title': 'Sennheiser DeskMate Corded headset for Your Smart Phone (iPhone/Samsung)',\n  'product_type': 'over-ear',\n  'features': ['Microphone', 'Lightweight', 'Noise-Canceling'],\n  'brand': 'Sennheiser',\n  'price': 227.95},\n {'product_title': 'Audio-Technica ATH-M50xSTS-USB StreamSet Streaming Headset',\n  'product_type': 'over-ear',\n  'features': [],\n  'brand': 'Audio-Technica',\n  'price': 169.0},\n {'product_title': 'CERRXIAN Right Angle 1/4 Male to 1/8 Female Adapter',\n  'product_type': 'n/a',\n  'features': [],\n  'brand': 'CERRXIAN',\n  'price': 7.99},\n {'product_title': 'LC-dolida Bluetooth Headband Headphones',\n  'product_type': 'over-ear',\n  'features': ['cozy sleep mask', 'Bluetooth headphones', 'foldable'],\n  'brand': 'LC-dolida',\n  'price': 19.59}]"
          },
          "metadata": {}
        }
      ],
      "execution_count": 109,
      "metadata": {
        "gather": {
          "logged": 1743061227188
        }
      }
    },
    {
      "cell_type": "code",
      "source": [],
      "outputs": [],
      "execution_count": null,
      "metadata": {}
    }
  ],
  "metadata": {
    "kernelspec": {
      "name": "python310-sdkv2",
      "language": "python",
      "display_name": "Python 3.10 - SDK v2"
    },
    "language_info": {
      "name": "python",
      "version": "3.10.11",
      "mimetype": "text/x-python",
      "codemirror_mode": {
        "name": "ipython",
        "version": 3
      },
      "pygments_lexer": "ipython3",
      "nbconvert_exporter": "python",
      "file_extension": ".py"
    },
    "microsoft": {
      "ms_spell_check": {
        "ms_spell_check_language": "en"
      },
      "host": {
        "AzureML": {
          "notebookHasBeenCompleted": true
        }
      }
    },
    "nteract": {
      "version": "nteract-front-end@1.0.0"
    },
    "kernel_info": {
      "name": "python310-sdkv2"
    }
  },
  "nbformat": 4,
  "nbformat_minor": 2
}