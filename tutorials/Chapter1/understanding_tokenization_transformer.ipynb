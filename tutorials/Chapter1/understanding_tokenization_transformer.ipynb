{
  "cells": [
    {
      "cell_type": "markdown",
      "source": [
        "## Tutorial: Tokenization and Transformer Model"
      ],
      "metadata": {
        "nteract": {
          "transient": {
            "deleting": false
          }
        }
      }
    },
    {
      "cell_type": "markdown",
      "source": [
        "#### Objective\n",
        "- Understand tokenization and how it prepares text data for transformers.\n",
        "- Explore how transformers process tokenized input using attention mechanisms and visualize attention weights to observe how transformers focus on specific tokens.\n",
        "- Examine the inference process in GPT models, highlighting techniques that optimize performance."
      ],
      "metadata": {
        "nteract": {
          "transient": {
            "deleting": false
          }
        }
      }
    },
    {
      "cell_type": "markdown",
      "source": [
        "#### Prerequisites\n",
        "- Python installed (3.8+ recommended).\n",
        "- Install necessary libraries:"
      ],
      "metadata": {
        "nteract": {
          "transient": {
            "deleting": false
          }
        }
      }
    },
    {
      "cell_type": "code",
      "source": [
        "%pip install transformers torch matplotlib seaborn\n",
        "%pip install protobuf==3.20.3"
      ],
      "outputs": [
        {
          "output_type": "stream",
          "name": "stdout",
          "text": "Requirement already satisfied: transformers in /anaconda/envs/azureml_py38/lib/python3.8/site-packages (4.16.0)\nRequirement already satisfied: torch in /anaconda/envs/azureml_py38/lib/python3.8/site-packages (1.12.0)\nRequirement already satisfied: matplotlib in /anaconda/envs/azureml_py38/lib/python3.8/site-packages (3.2.1)\nRequirement already satisfied: seaborn in /anaconda/envs/azureml_py38/lib/python3.8/site-packages (0.12.2)\nRequirement already satisfied: filelock in /anaconda/envs/azureml_py38/lib/python3.8/site-packages (from transformers) (3.12.0)\nRequirement already satisfied: regex!=2019.12.17 in /anaconda/envs/azureml_py38/lib/python3.8/site-packages (from transformers) (2023.5.5)\nRequirement already satisfied: requests in /anaconda/envs/azureml_py38/lib/python3.8/site-packages (from transformers) (2.31.0)\nRequirement already satisfied: numpy>=1.17 in /anaconda/envs/azureml_py38/lib/python3.8/site-packages (from transformers) (1.21.6)\nRequirement already satisfied: tokenizers!=0.11.3,>=0.10.1 in /anaconda/envs/azureml_py38/lib/python3.8/site-packages (from transformers) (0.13.3)\nRequirement already satisfied: huggingface-hub<1.0,>=0.1.0 in /anaconda/envs/azureml_py38/lib/python3.8/site-packages (from transformers) (0.14.1)\nRequirement already satisfied: tqdm>=4.27 in /anaconda/envs/azureml_py38/lib/python3.8/site-packages (from transformers) (4.65.0)\nRequirement already satisfied: pyyaml>=5.1 in /anaconda/envs/azureml_py38/lib/python3.8/site-packages (from transformers) (6.0)\nRequirement already satisfied: packaging>=20.0 in /anaconda/envs/azureml_py38/lib/python3.8/site-packages (from transformers) (23.0)\nRequirement already satisfied: sacremoses in /anaconda/envs/azureml_py38/lib/python3.8/site-packages (from transformers) (0.0.53)\nRequirement already satisfied: typing-extensions in /anaconda/envs/azureml_py38/lib/python3.8/site-packages (from torch) (4.10.0)\nRequirement already satisfied: cycler>=0.10 in /anaconda/envs/azureml_py38/lib/python3.8/site-packages (from matplotlib) (0.11.0)\nRequirement already satisfied: kiwisolver>=1.0.1 in /anaconda/envs/azureml_py38/lib/python3.8/site-packages (from matplotlib) (1.4.4)\nRequirement already satisfied: pyparsing!=2.0.4,!=2.1.2,!=2.1.6,>=2.0.1 in /anaconda/envs/azureml_py38/lib/python3.8/site-packages (from matplotlib) (3.1.0)\nRequirement already satisfied: python-dateutil>=2.1 in /anaconda/envs/azureml_py38/lib/python3.8/site-packages (from matplotlib) (2.8.2)\nRequirement already satisfied: pandas>=0.25 in /anaconda/envs/azureml_py38/lib/python3.8/site-packages (from seaborn) (2.0.3)\nRequirement already satisfied: idna<4,>=2.5 in /anaconda/envs/azureml_py38/lib/python3.8/site-packages (from requests->transformers) (3.4)\nRequirement already satisfied: certifi>=2017.4.17 in /anaconda/envs/azureml_py38/lib/python3.8/site-packages (from requests->transformers) (2022.9.24)\nRequirement already satisfied: urllib3<3,>=1.21.1 in /anaconda/envs/azureml_py38/lib/python3.8/site-packages (from requests->transformers) (1.26.19)\nRequirement already satisfied: charset-normalizer<4,>=2 in /anaconda/envs/azureml_py38/lib/python3.8/site-packages (from requests->transformers) (3.1.0)\nRequirement already satisfied: fsspec in /anaconda/envs/azureml_py38/lib/python3.8/site-packages (from huggingface-hub<1.0,>=0.1.0->transformers) (2023.5.0)\nRequirement already satisfied: click in /anaconda/envs/azureml_py38/lib/python3.8/site-packages (from sacremoses->transformers) (8.1.3)\nRequirement already satisfied: joblib in /anaconda/envs/azureml_py38/lib/python3.8/site-packages (from sacremoses->transformers) (1.2.0)\nRequirement already satisfied: six in /anaconda/envs/azureml_py38/lib/python3.8/site-packages (from sacremoses->transformers) (1.16.0)\nRequirement already satisfied: pytz>=2020.1 in /anaconda/envs/azureml_py38/lib/python3.8/site-packages (from pandas>=0.25->seaborn) (2022.5)\nRequirement already satisfied: tzdata>=2022.1 in /anaconda/envs/azureml_py38/lib/python3.8/site-packages (from pandas>=0.25->seaborn) (2023.3)\nNote: you may need to restart the kernel to use updated packages.\nRequirement already satisfied: protobuf==3.20.3 in /anaconda/envs/azureml_py38/lib/python3.8/site-packages (3.20.3)\nNote: you may need to restart the kernel to use updated packages.\n"
        }
      ],
      "execution_count": 1,
      "metadata": {
        "jupyter": {
          "source_hidden": false,
          "outputs_hidden": false
        },
        "nteract": {
          "transient": {
            "deleting": false
          }
        },
        "gather": {
          "logged": 1742030231722
        }
      }
    },
    {
      "cell_type": "markdown",
      "source": [
        "#### Step 1: Tokenization Basics\n",
        "\n",
        "Tokenization is the process of breaking down text into smaller units (tokens) that a model can understand. Subword tokenization (e.g., Byte-Pair Encoding) is commonly used in transformers.\n",
        "\n",
        "**Pre-trained Tokenizer **"
      ],
      "metadata": {
        "nteract": {
          "transient": {
            "deleting": false
          }
        }
      }
    },
    {
      "cell_type": "code",
      "source": [
        "import os\n",
        "os.environ[\"TOKENIZERS_PARALLELISM\"] = \"false\"\n",
        "\n",
        "from transformers import AutoTokenizer\n",
        "\n",
        "# Load a pre-trained tokenizer\n",
        "tokenizer = AutoTokenizer.from_pretrained(\"bert-base-uncased\")\n",
        "\n",
        "# Sample text\n",
        "text = \"Transformers have revolutionized natural language processing!\"\n",
        "\n",
        "# Tokenize the input\n",
        "tokens = tokenizer.tokenize(text)\n",
        "input_ids = tokenizer(text, return_tensors=\"pt\")[\"input_ids\"]\n",
        "\n",
        "print(\"Original Text:\", text)\n",
        "print(\"Tokens:\", tokens)\n",
        "print(\"Input IDs:\", input_ids)"
      ],
      "outputs": [
        {
          "output_type": "stream",
          "name": "stdout",
          "text": "Original Text: Transformers have revolutionized natural language processing!\nTokens: ['transformers', 'have', 'revolution', '##ized', 'natural', 'language', 'processing', '!']\nInput IDs: tensor([[  101, 19081,  2031,  4329,  3550,  3019,  2653,  6364,   999,   102]])\n"
        }
      ],
      "execution_count": 2,
      "metadata": {
        "jupyter": {
          "source_hidden": false,
          "outputs_hidden": false
        },
        "nteract": {
          "transient": {
            "deleting": false
          }
        },
        "gather": {
          "logged": 1742034163880
        }
      }
    },
    {
      "cell_type": "code",
      "source": [
        "# Trained tokenizers\n",
        "# from tokenizers import Tokenizer, models, trainers\n",
        "\n",
        "# # Initialize a new BPE tokenizer\n",
        "# tokenizer = Tokenizer(models.BPE())\n",
        "# tokenizer.pre_tokenizer = pre_tokenizers.ByteLevel()\n",
        "\n",
        "# # Train the tokenizer on custom data\n",
        "# trainer = trainers.BpeTrainer(vocab_size=50_000)\n",
        "# tokenizer.train_from_iterator([\"Hello, how are you?\", \"I am fine, thank you!\"], trainer)\n",
        "\n",
        "# # Example usage\n",
        "# input_text = \"Hello, how are you?\"\n",
        "# tokens = tokenizer.encode(input_text)\n",
        "# print(tokens.tokens())  # Outputs tokens based on trained vocabulary\n"
      ],
      "outputs": [],
      "execution_count": 3,
      "metadata": {
        "jupyter": {
          "source_hidden": false,
          "outputs_hidden": false
        },
        "nteract": {
          "transient": {
            "deleting": false
          }
        },
        "gather": {
          "logged": 1742034164014
        }
      }
    },
    {
      "cell_type": "markdown",
      "source": [
        "#### Step 2: Understanding Transformers\n",
        "**Transformer Architecture**\n",
        "\n",
        "Transformers process tokenized inputs through layers of self-attention and feed-forward networks, generating contextualized embeddings for each token."
      ],
      "metadata": {
        "nteract": {
          "transient": {
            "deleting": false
          }
        }
      }
    },
    {
      "cell_type": "code",
      "source": [
        "from transformers import AutoModel\n",
        "\n",
        "# Load a pre-trained transformer model\n",
        "model = AutoModel.from_pretrained(\"bert-base-uncased\")\n",
        "\n",
        "# Pass the tokenized input to the model\n",
        "outputs = model(input_ids)\n",
        "\n",
        "# Extract the hidden states\n",
        "hidden_states = outputs.last_hidden_state\n",
        "print(\"Shape of Hidden States:\", hidden_states.shape)"
      ],
      "outputs": [
        {
          "output_type": "stream",
          "name": "stdout",
          "text": "Shape of Hidden States: torch.Size([1, 10, 768])\n"
        }
      ],
      "execution_count": 4,
      "metadata": {
        "jupyter": {
          "source_hidden": false,
          "outputs_hidden": false
        },
        "nteract": {
          "transient": {
            "deleting": false
          }
        },
        "gather": {
          "logged": 1742034165149
        }
      }
    },
    {
      "cell_type": "markdown",
      "source": [
        "** Explanation: **\n",
        "- `hidden_states` contains contextual embeddings for each token.\n",
        "- The shape is `[batch_size, sequence_length, hidden_size]`."
      ],
      "metadata": {
        "nteract": {
          "transient": {
            "deleting": false
          }
        }
      }
    },
    {
      "cell_type": "markdown",
      "source": [
        "#### Step 3: Visualizing Attention Weights\n",
        "**What Are Attention Weights?**\n",
        "\n",
        "Attention weights determine how much importance the model assigns to each token when processing a given token."
      ],
      "metadata": {
        "nteract": {
          "transient": {
            "deleting": false
          }
        }
      }
    },
    {
      "cell_type": "code",
      "source": [
        "from transformers import BertModel\n",
        "import matplotlib.pyplot as plt\n",
        "import seaborn as sns\n",
        "\n",
        "# Load the model with attention outputs enabled\n",
        "model = BertModel.from_pretrained(\"bert-base-uncased\", output_attentions=True)\n",
        "\n",
        "# Sample text\n",
        "text = \"Transformers have revolutionized natural language processing!\"\n",
        "\n",
        "# Tokenize the input\n",
        "tokens = tokenizer.tokenize(text)\n",
        "input_ids = tokenizer(text, return_tensors=\"pt\")[\"input_ids\"]\n",
        "\n",
        "# Forward pass to extract attention weights\n",
        "outputs = model(input_ids)\n",
        "attention_weights = outputs.attentions  # List of attention matrices (one per layer)\n",
        "\n",
        "# Select attention weights from the first layer and the first head\n",
        "layer = 0  # First layer\n",
        "head = 0   # First attention head\n",
        "attention_matrix = attention_weights[layer][0, head].detach().numpy()\n",
        "\n",
        "# Visualize the attention matrix\n",
        "tokens = tokenizer.convert_ids_to_tokens(input_ids[0])\n",
        "plt.figure(figsize=(6, 5))\n",
        "sns.heatmap(attention_matrix, xticklabels=tokens, yticklabels=tokens, cmap=\"viridis\")\n",
        "plt.title(\"Attention Weights (Layer 0, Head 0)\")\n",
        "plt.xlabel(\"Query Tokens\")\n",
        "plt.ylabel(\"Key Tokens\")\n",
        "plt.show()"
      ],
      "outputs": [
        {
          "output_type": "stream",
          "name": "stderr",
          "text": "Some weights of the model checkpoint at bert-base-uncased were not used when initializing BertModel: ['cls.predictions.transform.LayerNorm.bias', 'cls.predictions.decoder.weight', 'cls.predictions.transform.dense.weight', 'cls.predictions.transform.dense.bias', 'cls.seq_relationship.bias', 'cls.predictions.bias', 'cls.predictions.transform.LayerNorm.weight', 'cls.seq_relationship.weight']\n- This IS expected if you are initializing BertModel from the checkpoint of a model trained on another task or with another architecture (e.g. initializing a BertForSequenceClassification model from a BertForPreTraining model).\n- This IS NOT expected if you are initializing BertModel from the checkpoint of a model that you expect to be exactly identical (initializing a BertForSequenceClassification model from a BertForSequenceClassification model).\n"
        },
        {
          "output_type": "display_data",
          "data": {
            "text/plain": "<Figure size 600x500 with 2 Axes>",
            "image/png": "[encoded data removed]"
          },
          "metadata": {}
        }
      ],
      "execution_count": 5,
      "metadata": {
        "jupyter": {
          "source_hidden": false,
          "outputs_hidden": false
        },
        "nteract": {
          "transient": {
            "deleting": false
          }
        },
        "gather": {
          "logged": 1742034168069
        }
      }
    },
    {
      "cell_type": "markdown",
      "source": [
        "#### Step 4: Auto-Regressive Decoding\n",
        "\n",
        "- Generate text and visualize probabilities with autoregressive decoding"
      ],
      "metadata": {
        "nteract": {
          "transient": {
            "deleting": false
          }
        }
      }
    },
    {
      "cell_type": "code",
      "source": [
        "import torch\n",
        "import matplotlib.pyplot as plt\n",
        "from transformers import GPT2LMHeadModel, GPT2Tokenizer\n",
        "\n",
        "# Load GPT-2 model and tokenizer\n",
        "model_name = \"gpt2\"\n",
        "model = GPT2LMHeadModel.from_pretrained(model_name)\n",
        "tokenizer = GPT2Tokenizer.from_pretrained(model_name)\n",
        "\n",
        "import torch\n",
        "\n",
        "# Generate text auto-regressively\n",
        "input_text = \"The winter in California is \"\n",
        "input_ids = tokenizer.encode(input_text, return_tensors=\"pt\")\n",
        "\n",
        "# Generate top-k sequences\n",
        "top_k = 5\n",
        "output_sequences = model.generate(\n",
        "    input_ids,\n",
        "    max_length=20,\n",
        "    num_return_sequences=top_k,\n",
        "    num_beams=top_k,\n",
        "    early_stopping=True,\n",
        "    do_sample=True,\n",
        "    top_k=50\n",
        ")\n",
        "\n",
        "# Decode and print the top-k sequences\n",
        "print(\"Top-k decoded sequences:\")\n",
        "for i, seq in enumerate(output_sequences):\n",
        "    decoded_seq = tokenizer.decode(seq, skip_special_tokens=True)\n",
        "    print(f\"{i + 1}: {decoded_seq}\")"
      ],
      "outputs": [
        {
          "output_type": "stream",
          "name": "stderr",
          "text": "Setting `pad_token_id` to `eos_token_id`:50256 for open-end generation.\n"
        },
        {
          "output_type": "stream",
          "name": "stdout",
          "text": "Top-k decoded sequences:\n1: The winter in California is iced. It's hot. It's cold. It's cold.\n2: The winter in California is iced up, and it's going to be colder than it used to\n3: The winter in California is iced and cold, and there is no water to drink.\n\n\n4: The winter in California is iced, and it's hard to find a place that doesn't have\n5: The winter in California is iced, and it's cold enough that I can't stand it.\n"
        }
      ],
      "execution_count": 18,
      "metadata": {
        "gather": {
          "logged": 1742037523100
        }
      }
    },
    {
      "cell_type": "markdown",
      "source": [
        "Autoregressive deocoding vs speculative decoding"
      ],
      "metadata": {
        "nteract": {
          "transient": {
            "deleting": false
          }
        }
      }
    },
    {
      "cell_type": "code",
      "source": [
        "# import torch\n",
        "# from transformers import AutoTokenizer, AutoModelForCausalLM, LogitsProcessorList, TopPLogitsWarper\n",
        "# from sampling_units import speculative_generate, autoregressive_generate\n",
        "# import time\n",
        "\n",
        "# # Load the target (large) and drafter (small) models\n",
        "# target_model_name = \"gpt2-large\"\n",
        "# drafter_model_name = \"distilgpt2\"\n",
        "\n",
        "# tokenizer = AutoTokenizer.from_pretrained(target_model_name)\n",
        "# target_model = AutoModelForCausalLM.from_pretrained(target_model_name)\n",
        "# drafter_model = AutoModelForCausalLM.from_pretrained(drafter_model_name)\n",
        "\n",
        "# # Define parameters for generation\n",
        "# gen_len = 10  # Maximum number of tokens to generate\n",
        "# gamma = 8  # Number of drafts generated by the drafter model at each step\n",
        "# logits_processor = LogitsProcessorList([\n",
        "#     TopPLogitsWarper(top_p=0.9)\n",
        "# ])\n",
        "\n",
        "# # Input prompt\n",
        "# input_text = \"The winter in California is\"\n",
        "# input_ids = tokenizer.encode(input_text, return_tensors='pt')\n",
        "\n",
        "# # ----------------------------\n",
        "# # 🔸 Time: Auto-regressive decoding\n",
        "# # ----------------------------\n",
        "# start_time_ar = time.time()\n",
        "\n",
        "# output_ids_ar = autoregressive_generate(\n",
        "#     input_ids,\n",
        "#     target_model,\n",
        "#     logits_processor=logits_processor,\n",
        "#     max_gen_len=gen_len,\n",
        "#     end_tokens_id=tokenizer.eos_token_id,\n",
        "#     pad_token_id=tokenizer.pad_token_id,\n",
        "# )\n",
        "\n",
        "# end_time_ar = time.time()\n",
        "# elapsed_time_ar = end_time_ar - start_time_ar\n",
        "# output_ar = tokenizer.decode(output_ids_ar[0], skip_special_tokens=True)\n",
        "\n",
        "# # ----------------------------\n",
        "# # 🔸 Time: Speculative decoding\n",
        "# # ----------------------------\n",
        "# start_time_sd = time.time()\n",
        "\n",
        "# output_ids_sd, alpha = speculative_generate(\n",
        "#     input_ids,\n",
        "#     drafter_model,\n",
        "#     target_model,\n",
        "#     logits_processor=logits_processor,\n",
        "#     gamma=gamma,\n",
        "#     max_gen_len=gen_len,\n",
        "#     end_tokens_id=tokenizer.eos_token_id,\n",
        "#     pad_token_id=tokenizer.pad_token_id,\n",
        "# )\n",
        "\n",
        "# end_time_sd = time.time()\n",
        "# elapsed_time_sd = end_time_sd - start_time_sd\n",
        "# output_sd = tokenizer.decode(output_ids_sd[0], skip_special_tokens=True)\n",
        "\n",
        "# # ----------------------------\n",
        "# # ✅ Display Results\n",
        "# # ----------------------------\n",
        "# print(\"\\n======================\")\n",
        "# print(\"📜 Auto-Regressive Output:\\n\", output_ar)\n",
        "# print(f\"🕒 Time (AR decoding): {elapsed_time_ar:.2f} seconds\")\n",
        "# print(\"\\n======================\")\n",
        "# print(\"⚡ Speculative Decoding Output:\\n\", output_sd)\n",
        "# print(f\"🕒 Time (Speculative decoding): {elapsed_time_sd:.2f} seconds\")\n",
        "# print(f\"⚡ Speedup: {elapsed_time_ar / elapsed_time_sd:.2f}x\")\n"
      ],
      "outputs": [
        {
          "output_type": "stream",
          "name": "stdout",
          "text": "\n======================\n📜 Auto-Regressive Output:\n The winter in California is a time of year when the temperature drops to the\n🕒 Time (AR decoding): 2.79 seconds\n\n======================\n⚡ Speculative Decoding Output:\n The winter in California is a time of year when the temperature drops to the\n🕒 Time (Speculative decoding): 3.02 seconds\n⚡ Speedup: 0.92x\n"
        }
      ],
      "execution_count": 9,
      "metadata": {
        "jupyter": {
          "source_hidden": false,
          "outputs_hidden": false
        },
        "nteract": {
          "transient": {
            "deleting": false
          }
        },
        "gather": {
          "logged": 1742034651304
        }
      }
    },
    {
      "cell_type": "code",
      "source": [],
      "outputs": [],
      "execution_count": null,
      "metadata": {}
    }
  ],
  "metadata": {
    "kernelspec": {
      "name": "python38-azureml",
      "language": "python",
      "display_name": "Python 3.8 - AzureML"
    },
    "language_info": {
      "name": "python",
      "version": "3.8.5",
      "mimetype": "text/x-python",
      "codemirror_mode": {
        "name": "ipython",
        "version": 3
      },
      "pygments_lexer": "ipython3",
      "nbconvert_exporter": "python",
      "file_extension": ".py"
    },
    "microsoft": {
      "ms_spell_check": {
        "ms_spell_check_language": "en"
      },
      "host": {
        "AzureML": {
          "notebookHasBeenCompleted": true
        }
      }
    },
    "nteract": {
      "version": "nteract-front-end@1.0.0"
    },
    "kernel_info": {
      "name": "python38-azureml"
    }
  },
  "nbformat": 4,
  "nbformat_minor": 2
}