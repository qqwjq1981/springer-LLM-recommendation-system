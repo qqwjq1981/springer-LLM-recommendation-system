{
  "cells": [
    {
      "cell_type": "markdown",
      "source": [
        "## Tutorial: Content Embedding and Retrieval"
      ],
      "metadata": {
        "nteract": {
          "transient": {
            "deleting": false
          }
        }
      }
    },
    {
      "cell_type": "markdown",
      "source": [
        "#### Objective\n",
        "- Understand the role of embeddings in capturing semantic relationships between content.\n",
        "- Generate embeddings for textual data using pre-trained LLMs.\n",
        "- Perform content retrieval using Approximate Nearest Neighbor (ANN) search with these embeddings."
      ],
      "metadata": {
        "nteract": {
          "transient": {
            "deleting": false
          }
        }
      }
    },
    {
      "cell_type": "code",
      "source": [
        "# %pip install seaborn\n",
        "# %pip install bm25s rank_bm25\n",
        "# %pip install transformers\n",
        "# %pip install datasets\n",
        "# %pip install faiss-cpu\n",
        "# %pip install numpy scikit-learn bm25s"
      ],
      "outputs": [],
      "execution_count": 4,
      "metadata": {
        "gather": {
          "logged": 1742459131781
        }
      }
    },
    {
      "cell_type": "markdown",
      "source": [
        "#### Step 1: Generate Content Embedding\n",
        "Content embedding is the process of transforming input data (e.g., text, images) into dense vectors that capture semantic meaning. These embeddings are essential for tasks like:\n",
        "\n",
        "- Similarity Search: Finding similar items based on their embeddings.\n",
        "- Recommendation: Matching user preferences with item embeddings.\n"
      ],
      "metadata": {
        "nteract": {
          "transient": {
            "deleting": false
          }
        }
      }
    },
    {
      "cell_type": "code",
      "source": [
        "from transformers import AutoTokenizer, AutoModel\n",
        "import torch\n",
        "from datasets import load_dataset\n",
        "import pandas as pd\n",
        "import numpy as np\n",
        "\n",
        "# Load pre-trained model and tokenizer\n",
        "model_name = \"sentence-transformers/all-MiniLM-L6-v2\"\n",
        "tokenizer = AutoTokenizer.from_pretrained(model_name)\n",
        "model = AutoModel.from_pretrained(model_name)\n",
        "\n",
        "def generate_embeddings(texts, model, tokenizer, embedding_dim=384):\n",
        "    \"\"\"\n",
        "    Generate dense embeddings for a list of texts using a pre-trained model.\n",
        "    If an error occurs, returns an array of zeros with shape (len(texts), embedding_dim).\n",
        "    \"\"\"\n",
        "    try:\n",
        "        # Ensure texts are strings and handle empty inputs\n",
        "        if not isinstance(texts, list) or len(texts) == 0:\n",
        "            return np.zeros((1, embedding_dim))\n",
        "\n",
        "        texts = [str(t) if t is not None else \"\" for t in texts]  # Convert None to empty string\n",
        "\n",
        "        # Tokenize input\n",
        "        encoded_input = tokenizer(texts, padding=True, truncation=True, return_tensors='pt')\n",
        "\n",
        "        # Generate embeddings\n",
        "        with torch.no_grad():\n",
        "            model_output = model(**encoded_input)\n",
        "\n",
        "        # Average pooling of last hidden states\n",
        "        embeddings = model_output.last_hidden_state.mean(dim=1)\n",
        "\n",
        "        return embeddings.numpy()  # Convert to NumPy for efficiency\n",
        "\n",
        "    except Exception as e:\n",
        "        print(f\"Error in generate_embeddings: {e}\")  # Log the error\n",
        "        return np.zeros((len(texts), embedding_dim))  # Return zero embeddings"
      ],
      "outputs": [
        {
          "output_type": "stream",
          "name": "stderr",
          "text": "/anaconda/envs/azureml_py310_sdkv2/lib/python3.10/site-packages/tqdm/auto.py:21: TqdmWarning: IProgress not found. Please update jupyter and ipywidgets. See https://ipywidgets.readthedocs.io/en/stable/user_install.html\n  from .autonotebook import tqdm as notebook_tqdm\n"
        }
      ],
      "execution_count": 5,
      "metadata": {
        "gather": {
          "logged": 1742459157902
        }
      }
    },
    {
      "cell_type": "markdown",
      "source": [
        "#### Step 2: Visualizing Embeddings\n",
        "\n",
        "Visualizing embeddings can help understand how content is semantically clustered.\n",
        "\n",
        "**Code: 2D Visualization with t-SNE**"
      ],
      "metadata": {
        "nteract": {
          "transient": {
            "deleting": false
          }
        }
      }
    },
    {
      "cell_type": "code",
      "source": [
        "import numpy as np\n",
        "import pandas as pd\n",
        "import matplotlib.pyplot as plt\n",
        "import seaborn as sns\n",
        "from sklearn.manifold import TSNE\n",
        "\n",
        "def plot_tsne_embeddings(embeddings_df, category_column='category', perplexity=30, figsize=(8, 6), title=\"t-SNE Visualization of Embeddings\"):\n",
        "    \"\"\"\n",
        "    Plot t-SNE of embeddings colored by a category column.\n",
        "\n",
        "    Args:\n",
        "        embeddings_df (pd.DataFrame): DataFrame containing embedding vectors and a category column.\n",
        "        category_column (str): Column name indicating item categories for coloring.\n",
        "        perplexity (int): t-SNE perplexity parameter.\n",
        "        figsize (tuple): Size of the output plot.\n",
        "        title (str): Title of the plot.\n",
        "    \"\"\"\n",
        "    if isinstance(embeddings_df, pd.DataFrame):\n",
        "        embeddings = embeddings_df.drop(columns=[category_column], errors='ignore').values\n",
        "    else:\n",
        "        raise ValueError(\"Expected a DataFrame for embeddings_df.\")\n",
        "\n",
        "    print(f\"Number of samples: {embeddings.shape[0]}\")\n",
        "\n",
        "    # Adjust perplexity if needed\n",
        "    perplexity = min(perplexity, embeddings.shape[0] - 1)\n",
        "    print(f\"Using perplexity: {perplexity}\")\n",
        "\n",
        "    # Run t-SNE\n",
        "    tsne = TSNE(n_components=2, perplexity=perplexity, random_state=42)\n",
        "    embeddings_2d = tsne.fit_transform(embeddings)\n",
        "\n",
        "    # Create visualization DataFrame\n",
        "    df_vis = pd.DataFrame(embeddings_2d, columns=['x', 'y'])\n",
        "    df_vis[category_column] = embeddings_df[category_column].values\n",
        "\n",
        "    # Plot\n",
        "    unique_topics = df_vis[category_column].unique()\n",
        "    color_palette = sns.color_palette(\"tab10\", len(unique_topics))\n",
        "    color_map = {topic: color_palette[i] for i, topic in enumerate(unique_topics)}\n",
        "\n",
        "    plt.figure(figsize=figsize)\n",
        "    for topic, color in color_map.items():\n",
        "        subset = df_vis[df_vis[category_column] == topic]\n",
        "        plt.scatter(subset['x'], subset['y'], c=[color], label=topic, s=5, alpha=0.6)\n",
        "\n",
        "    plt.title(title)\n",
        "    plt.legend(markerscale=2, fontsize=8, loc='best', frameon=True)\n",
        "    plt.xlabel(\"t-SNE Dim 1\")\n",
        "    plt.ylabel(\"t-SNE Dim 2\")\n",
        "    plt.tight_layout()\n",
        "    plt.show()\n"
      ],
      "outputs": [],
      "execution_count": 6,
      "metadata": {
        "jupyter": {
          "source_hidden": false,
          "outputs_hidden": false
        },
        "nteract": {
          "transient": {
            "deleting": false
          }
        },
        "gather": {
          "logged": 1742459158039
        }
      }
    },
    {
      "cell_type": "markdown",
      "source": [
        "#### Step 3: LLM-based Query Rewriting\n"
      ],
      "metadata": {
        "nteract": {
          "transient": {
            "deleting": false
          }
        }
      }
    },
    {
      "cell_type": "code",
      "source": [
        "from openai import OpenAI\n",
        "import yaml\n",
        "\n",
        "def rewrite_query_with_llm(query, model=\"gpt-4o-mini\"):\n",
        "    prompt = f\"\"\"Rewrite the following query to make it more descriptive and retrieval-friendly.\n",
        "Original query: \"{query}\"\n",
        "Improved query:\"\"\"\n",
        "\n",
        "    # Read the YAML file\n",
        "    with open('./../../../Curify/curify_api.yaml', 'r') as yaml_file:\n",
        "        data = yaml.safe_load(yaml_file)\n",
        "\n",
        "    # Access the API keys and other configuration data\n",
        "    openai_api_key = data.get('openai').get('api_key')\n",
        "    client = OpenAI(api_key=openai_api_key)\n",
        "        \n",
        "    response = client.chat.completions.create(\n",
        "        model=model,\n",
        "        messages=[\n",
        "            {\"role\": \"system\", \"content\": \"You are a helpful assistant that rewrites user queries.\"},\n",
        "            {\"role\": \"user\", \"content\": prompt}\n",
        "        ],\n",
        "        temperature=0.3\n",
        "    )\n",
        "    rewritten = response.choices[0].message.content.strip()\n",
        "    return rewritten\n"
      ],
      "outputs": [],
      "execution_count": 7,
      "metadata": {
        "gather": {
          "logged": 1742459160563
        }
      }
    },
    {
      "cell_type": "markdown",
      "source": [
        "#### Step 3: Content Retrieval Using ANN\n",
        "\n",
        "To retrieve content efficiently, we’ll use Approximate Nearest Neighbor (ANN) techniques, leveraging libraries like FAISS.\n",
        "\n",
        "- BM25 retrieval.\n",
        "- Hybrid retrieval.\n",
        "- Hybrid retrieval with document expansion."
      ],
      "metadata": {
        "nteract": {
          "transient": {
            "deleting": false
          }
        }
      }
    },
    {
      "cell_type": "code",
      "source": [
        "import time\n",
        "import numpy as np\n",
        "from rank_bm25 import BM25Okapi\n",
        "from sklearn.metrics.pairwise import cosine_similarity\n",
        "\n",
        "def retrieve_all(query_text, corpus, embedding_dim=384, topn=40, alpha=0.5):\n",
        "    \"\"\"\n",
        "    Retrieve relevant documents from a corpus using BM25, Dense, and Hybrid methods.\n",
        "\n",
        "    Args:\n",
        "        query_text (str): Query string.\n",
        "        corpus (list of str): List of documents.\n",
        "        model: Pretrained model for embedding.\n",
        "        tokenizer: Tokenizer corresponding to the model.\n",
        "        embedding_dim (int): Embedding dimensionality.\n",
        "        topn (int): Number of top documents to retrieve.\n",
        "        alpha (float): Weight for combining BM25 and Dense scores in hybrid retrieval.\n",
        "\n",
        "    Returns:\n",
        "        dict: Contains indices, scores, and latencies for BM25, Dense, and Hybrid methods.\n",
        "    \"\"\"\n",
        "\n",
        "    results = {}\n",
        "\n",
        "    # === BM25 Retrieval ===\n",
        "    start = time.time()\n",
        "    tokenized_corpus = [doc.split() for doc in corpus]\n",
        "    bm25 = BM25Okapi(tokenized_corpus)\n",
        "    bm25_scores = bm25.get_scores(query_text.split())\n",
        "    bm25_indices = np.argsort(bm25_scores)[::-1][:topn]\n",
        "    bm25_latency = time.time() - start\n",
        "    results[\"bm25\"] = {\n",
        "        \"indices\": bm25_indices,\n",
        "        \"scores\": [bm25_scores[i] for i in bm25_indices],\n",
        "        \"latency\": bm25_latency,\n",
        "    }\n",
        "\n",
        "    # === Dense Embedding Retrieval ===\n",
        "    start = time.time()\n",
        "    query_embedding = generate_embeddings([query_text], model, tokenizer, embedding_dim=embedding_dim)\n",
        "    document_embeddings = generate_embeddings(corpus, model, tokenizer, embedding_dim=embedding_dim)\n",
        "    cosine_scores = cosine_similarity(query_embedding, document_embeddings)[0]\n",
        "    dense_indices = np.argsort(cosine_scores)[::-1][:topn]\n",
        "    dense_latency = time.time() - start\n",
        "    results[\"dense\"] = {\n",
        "        \"indices\": dense_indices,\n",
        "        \"scores\": [cosine_scores[i] for i in dense_indices],\n",
        "        \"latency\": dense_latency,\n",
        "    }\n",
        "\n",
        "    # === Hybrid Retrieval ===\n",
        "    start = time.time()\n",
        "    # Normalize both scores before combining\n",
        "    bm25_norm = np.array(bm25_scores) / (np.max(bm25_scores) + 1e-8)\n",
        "    dense_norm = cosine_scores / (np.max(cosine_scores) + 1e-8)\n",
        "    hybrid_scores = alpha * dense_norm + (1 - alpha) * bm25_norm\n",
        "    hybrid_indices = np.argsort(hybrid_scores)[::-1][:topn]\n",
        "    hybrid_latency = time.time() - start\n",
        "    results[\"hybrid\"] = {\n",
        "        \"indices\": hybrid_indices,\n",
        "        \"scores\": [hybrid_scores[i] for i in hybrid_indices],\n",
        "        \"latency\": hybrid_latency,\n",
        "    }\n",
        "    return results"
      ],
      "outputs": [],
      "execution_count": 8,
      "metadata": {
        "gather": {
          "logged": 1742459160700
        }
      }
    },
    {
      "cell_type": "markdown",
      "source": [
        "#### Step 4: Evaluating Retrieval\n",
        "To assess the performance:\n",
        "\n",
        "1. Use a metric like Precision@K: How many retrieved items are relevant?\n",
        "2. Create labeled test sets with query-relevant pairs.\n",
        "\n",
        "**Code: Precision@K**"
      ],
      "metadata": {
        "nteract": {
          "transient": {
            "deleting": false
          }
        }
      }
    },
    {
      "cell_type": "code",
      "source": [
        "import numpy as np\n",
        "from sklearn.metrics import ndcg_score\n",
        "\n",
        "def evaluate_retrieval_metrics(retrieved_results, relevant_documents, ks=[10]):\n",
        "    \"\"\"\n",
        "    Compute Precision@k, Recall@k, NDCG@k, and F1@k for a list of retrieval results.\n",
        "\n",
        "    Args:\n",
        "        retrieved_results (list): List of retrieved item IDs, sorted by score.\n",
        "        relevant_documents (list): List of relevant item IDs.\n",
        "        ks (list): List of cutoff values (e.g., [5, 10, 20]).\n",
        "\n",
        "    Returns:\n",
        "        dict: {k: {'Precision': avg_precision, 'Recall': avg_recall, 'NDCG': avg_ndcg, 'F1': avg_f1}} for each k.\n",
        "    \"\"\"\n",
        "    metrics = {k: {'Precision': [], 'Recall': [], 'NDCG': [], 'F1': []} for k in ks}\n",
        "\n",
        "    # Convert relevant_documents to a set for faster lookup\n",
        "    relevant_items = set(relevant_documents)\n",
        "    if len(relevant_items) == 0:\n",
        "        return {k: {'Precision': 0.0, 'Recall': 0.0, 'NDCG': 0.0, 'F1': 0.0} for k in ks}\n",
        "\n",
        "    for k in ks:\n",
        "        top_k_items = retrieved_results[:k]\n",
        "        relevance = [1 if item in relevant_items else 0 for item in top_k_items]\n",
        "\n",
        "        # Precision@k\n",
        "        precision = sum(relevance) / k\n",
        "        # Recall@k\n",
        "        recall = sum(relevance) / len(relevant_items)\n",
        "\n",
        "        # F1@k\n",
        "        if precision + recall == 0:\n",
        "            f1 = 0.0\n",
        "        else:\n",
        "            f1 = 2 * (precision * recall) / (precision + recall)\n",
        "\n",
        "        # Simulate predicted scores by rank positions (descending)\n",
        "        predicted_scores = list(range(k, 0, -1))\n",
        "        try:\n",
        "            ndcg = ndcg_score([relevance], [predicted_scores], k=k)\n",
        "        except ValueError:\n",
        "            ndcg = 0.0\n",
        "\n",
        "        metrics[k]['Precision'].append(precision)\n",
        "        metrics[k]['Recall'].append(recall)\n",
        "        metrics[k]['NDCG'].append(ndcg)\n",
        "        metrics[k]['F1'].append(f1)\n",
        "\n",
        "    # Aggregate averages\n",
        "    for k in ks:\n",
        "        for metric_name in ['Precision', 'Recall', 'NDCG', 'F1']:\n",
        "            scores = metrics[k][metric_name]\n",
        "            metrics[k][metric_name] = float(np.mean(scores)) if scores else 0.0\n",
        "\n",
        "    return metrics\n",
        "\n",
        "import pandas as pd\n",
        "\n",
        "def evaluate_queries(queries, corpus, df, ks=[20]):\n",
        "    \"\"\"\n",
        "    Evaluate retrieval performance for a list of queries against a corpus.\n",
        "\n",
        "    Args:\n",
        "        queries (list): List of query strings.\n",
        "        corpus: The corpus to retrieve documents from.\n",
        "        df (pd.DataFrame): DataFrame containing the ground truth (e.g., 'category' column).\n",
        "        retrieve_all_func (function): Function to retrieve results for a query (e.g., retrieve_all).\n",
        "        ks (list): List of cutoff values (e.g., [5, 10, 20]).\n",
        "\n",
        "    Returns:\n",
        "        dict: Dictionary of results keyed by query, with evaluation metrics for BM25, dense, and hybrid retrieval.\n",
        "    \"\"\"\n",
        "    results = {}\n",
        "\n",
        "    for query in queries:\n",
        "        # Get relevant documents (ground truth)\n",
        "        relevant_documents = df[df['category'].astype(str).str.contains(query, case=False, na=False)].index.tolist()\n",
        "\n",
        "        # Retrieve results for the query\n",
        "        retrieval_results = retrieve_all(query, corpus)\n",
        "\n",
        "        # Evaluate metrics for BM25, dense, and hybrid retrieval\n",
        "        bm25_eval = evaluate_retrieval_metrics(retrieval_results['bm25']['indices'], relevant_documents, ks=ks)\n",
        "        dense_eval = evaluate_retrieval_metrics(retrieval_results['dense']['indices'], relevant_documents, ks=ks)\n",
        "        hybrid_eval = evaluate_retrieval_metrics(retrieval_results['hybrid']['indices'], relevant_documents, ks=ks)\n",
        "\n",
        "        # Add latency to evaluation results\n",
        "        bm25_eval['latency'] = retrieval_results['bm25']['latency']\n",
        "        dense_eval['latency'] = retrieval_results['dense']['latency']\n",
        "        hybrid_eval['latency'] = retrieval_results['hybrid']['latency']\n",
        "\n",
        "        # Combine results for the query\n",
        "        results[query] = {\n",
        "            \"bm25\": bm25_eval,\n",
        "            \"dense\": dense_eval,\n",
        "            \"hybrid\": hybrid_eval\n",
        "        }\n",
        "\n",
        "    return results"
      ],
      "outputs": [],
      "execution_count": 9,
      "metadata": {
        "jupyter": {
          "source_hidden": false,
          "outputs_hidden": false
        },
        "nteract": {
          "transient": {
            "deleting": false
          }
        },
        "gather": {
          "logged": 1742459160844
        }
      }
    },
    {
      "cell_type": "code",
      "source": [
        "import json\n",
        "# Load the CSV file\n",
        "df = pd.read_csv('./../Data/news-recommendation/news_summary.tsv', sep='\\t')\n",
        "\n",
        "# Define texts as the titles of news articles\n",
        "corpus = df['summary'].astype(str).fillna(\"\").tolist()\n",
        "\n",
        "# Generate embeddings\n",
        "embeddings = generate_embeddings(corpus, model, tokenizer)\n",
        "\n",
        "print(\"Embeddings shape:\", embeddings.shape)\n",
        "\n",
        "# Create embeddings DataFrame\n",
        "embedding_df = pd.DataFrame(embeddings)\n",
        "\n",
        "# Append category column\n",
        "embedding_df['category'] = df['category'].values\n",
        "\n",
        "plot_tsne_embeddings(embedding_df)"
      ],
      "outputs": [
        {
          "output_type": "stream",
          "name": "stdout",
          "text": "Embeddings shape: (2225, 384)\nNumber of samples: 2225\nUsing perplexity: 30\n"
        }
      ],
      "execution_count": 10,
      "metadata": {
        "gather": {
          "logged": 1742459126293
        }
      }
    },
    {
      "cell_type": "code",
      "source": [
        "results_combined = evaluate_queries(['business', 'tech', 'entertainment', 'sport', 'politics'], corpus, df, ks=[10, 20])\n",
        "\n",
        "# Save to JSON file\n",
        "with open(\"retrieval_eval.json\", \"w\") as f:\n",
        "    json.dump(results_combined, f, indent=2, default=str)\n",
        "results_combined"
      ],
      "outputs": [],
      "execution_count": null,
      "metadata": {}
    }
  ],
  "metadata": {
    "kernelspec": {
      "name": "python310-sdkv2",
      "language": "python",
      "display_name": "Python 3.10 - SDK v2"
    },
    "language_info": {
      "name": "python",
      "version": "3.10.11",
      "mimetype": "text/x-python",
      "codemirror_mode": {
        "name": "ipython",
        "version": 3
      },
      "pygments_lexer": "ipython3",
      "nbconvert_exporter": "python",
      "file_extension": ".py"
    },
    "microsoft": {
      "ms_spell_check": {
        "ms_spell_check_language": "en"
      },
      "host": {
        "AzureML": {
          "notebookHasBeenCompleted": true
        }
      }
    },
    "nteract": {
      "version": "nteract-front-end@1.0.0"
    },
    "kernel_info": {
      "name": "python310-sdkv2"
    }
  },
  "nbformat": 4,
  "nbformat_minor": 2
}